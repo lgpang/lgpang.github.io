{
 "cells": [
  {
   "cell_type": "code",
   "execution_count": 1,
   "metadata": {
    "collapsed": true
   },
   "outputs": [],
   "source": [
    "# -*- coding: utf-8 -*-\n",
    "from gensim.models import word2vec\n",
    "import logging\n",
    "\n",
    "model = word2vec.Word2Vec.load(\"med250.model.bin\")"
   ]
  },
  {
   "cell_type": "markdown",
   "metadata": {},
   "source": [
    "## Check similarities between different people"
   ]
  },
  {
   "cell_type": "code",
   "execution_count": 2,
   "metadata": {},
   "outputs": [
    {
     "name": "stdout",
     "output_type": "stream",
     "text": [
      "0.353750359129\n"
     ]
    }
   ],
   "source": [
    "print model.wv.similarity(u'赵丽颖', u'刘德华')"
   ]
  },
  {
   "cell_type": "code",
   "execution_count": 3,
   "metadata": {},
   "outputs": [
    {
     "name": "stdout",
     "output_type": "stream",
     "text": [
      "0.889168946424\n"
     ]
    }
   ],
   "source": [
    "print model.wv.similarity(u'赵丽颖', u'杨幂')"
   ]
  },
  {
   "cell_type": "code",
   "execution_count": 4,
   "metadata": {},
   "outputs": [
    {
     "name": "stdout",
     "output_type": "stream",
     "text": [
      "0.654150430828\n"
     ]
    }
   ],
   "source": [
    "print model.wv.similarity(u'赵丽颖', u'杨紫琼')"
   ]
  },
  {
   "cell_type": "code",
   "execution_count": 5,
   "metadata": {},
   "outputs": [
    {
     "name": "stdout",
     "output_type": "stream",
     "text": [
      "0.834563163761\n"
     ]
    }
   ],
   "source": [
    "print model.wv.similarity(u'赵丽颖', u'林心如')"
   ]
  },
  {
   "cell_type": "code",
   "execution_count": 6,
   "metadata": {},
   "outputs": [
    {
     "name": "stdout",
     "output_type": "stream",
     "text": [
      "0.113208655761\n"
     ]
    }
   ],
   "source": [
    "print model.wv.similarity(u'赵丽颖', u'天使')"
   ]
  },
  {
   "cell_type": "code",
   "execution_count": 7,
   "metadata": {},
   "outputs": [
    {
     "name": "stdout",
     "output_type": "stream",
     "text": [
      "0.479097760278\n"
     ]
    }
   ],
   "source": [
    "print model.wv.similarity(u'赵丽颖', u'杉杉')"
   ]
  },
  {
   "cell_type": "code",
   "execution_count": 8,
   "metadata": {
    "collapsed": true
   },
   "outputs": [],
   "source": [
    "x1, x2 = model.wv[u'赵丽颖'], model.wv[u'杉杉']"
   ]
  },
  {
   "cell_type": "code",
   "execution_count": 9,
   "metadata": {
    "collapsed": true
   },
   "outputs": [],
   "source": [
    "y1, y2 = model.wv[u'林心如'], model.wv[u'紫薇']"
   ]
  },
  {
   "cell_type": "code",
   "execution_count": 10,
   "metadata": {},
   "outputs": [],
   "source": [
    "dx = x1 - x2\n",
    "dy = y1 - y2\n",
    "import numpy as np\n",
    "\n",
    "def similarity(a, b):\n",
    "    return (a*b).sum()/np.sqrt((a*a).sum() * (b*b).sum())"
   ]
  },
  {
   "cell_type": "code",
   "execution_count": 11,
   "metadata": {},
   "outputs": [
    {
     "data": {
      "text/plain": [
       "0.37903094"
      ]
     },
     "execution_count": 11,
     "metadata": {},
     "output_type": "execute_result"
    }
   ],
   "source": [
    "similarity(dx, dy)"
   ]
  },
  {
   "cell_type": "code",
   "execution_count": 12,
   "metadata": {
    "scrolled": true
   },
   "outputs": [
    {
     "name": "stdout",
     "output_type": "stream",
     "text": [
      "0.340444407558\n"
     ]
    }
   ],
   "source": [
    "print model.wv.similarity(u'爱', u'恨')"
   ]
  },
  {
   "cell_type": "code",
   "execution_count": 13,
   "metadata": {},
   "outputs": [],
   "source": [
    "vocab = sorted(model.wv.vocab) #not sure the exact api"
   ]
  },
  {
   "cell_type": "code",
   "execution_count": 14,
   "metadata": {},
   "outputs": [],
   "source": [
    "love = model.wv[u'爱']\n",
    "hate = model.wv[u'恨']\n",
    "black = model.wv[u'黑']\n",
    "white = model.wv[u'白']"
   ]
  },
  {
   "cell_type": "code",
   "execution_count": 15,
   "metadata": {},
   "outputs": [],
   "source": [
    "biggest_diff = np.argmax(np.abs(love - hate))"
   ]
  },
  {
   "cell_type": "code",
   "execution_count": 16,
   "metadata": {},
   "outputs": [
    {
     "name": "stdout",
     "output_type": "stream",
     "text": [
      "131\n"
     ]
    }
   ],
   "source": [
    "print biggest_diff"
   ]
  },
  {
   "cell_type": "code",
   "execution_count": 17,
   "metadata": {
    "scrolled": true
   },
   "outputs": [
    {
     "name": "stdout",
     "output_type": "stream",
     "text": [
      "-3.6518 2.82277\n"
     ]
    }
   ],
   "source": [
    "print love[131], hate[131]"
   ]
  },
  {
   "cell_type": "code",
   "execution_count": 18,
   "metadata": {},
   "outputs": [],
   "source": [
    "df1 = love - hate\n",
    "df2 = white - black"
   ]
  },
  {
   "cell_type": "code",
   "execution_count": 19,
   "metadata": {},
   "outputs": [
    {
     "data": {
      "text/plain": [
       "-0.052901145"
      ]
     },
     "execution_count": 19,
     "metadata": {},
     "output_type": "execute_result"
    }
   ],
   "source": [
    "similarity(df1, df2)"
   ]
  },
  {
   "cell_type": "code",
   "execution_count": 20,
   "metadata": {
    "collapsed": true
   },
   "outputs": [],
   "source": [
    "df1 = model.wv[u'男'] - model.wv[u'女']"
   ]
  },
  {
   "cell_type": "code",
   "execution_count": 21,
   "metadata": {
    "collapsed": true
   },
   "outputs": [],
   "source": [
    "df2 = model.wv[u'公'] - model.wv[u'母']"
   ]
  },
  {
   "cell_type": "code",
   "execution_count": 22,
   "metadata": {},
   "outputs": [
    {
     "data": {
      "text/plain": [
       "0.09384416"
      ]
     },
     "execution_count": 22,
     "metadata": {},
     "output_type": "execute_result"
    }
   ],
   "source": [
    "similarity(df1, df2)"
   ]
  },
  {
   "cell_type": "code",
   "execution_count": 23,
   "metadata": {
    "collapsed": true
   },
   "outputs": [],
   "source": [
    "df3 = model.wv[u'man'] - model.wv[u'woman']"
   ]
  },
  {
   "cell_type": "code",
   "execution_count": 24,
   "metadata": {},
   "outputs": [
    {
     "data": {
      "text/plain": [
       "0.12537621"
      ]
     },
     "execution_count": 24,
     "metadata": {},
     "output_type": "execute_result"
    }
   ],
   "source": [
    "similarity(df1, df3)"
   ]
  },
  {
   "cell_type": "code",
   "execution_count": 25,
   "metadata": {},
   "outputs": [
    {
     "data": {
      "text/plain": [
       "-0.022748435"
      ]
     },
     "execution_count": 25,
     "metadata": {},
     "output_type": "execute_result"
    }
   ],
   "source": [
    "similarity(df2, df3)"
   ]
  },
  {
   "cell_type": "code",
   "execution_count": 26,
   "metadata": {
    "collapsed": true
   },
   "outputs": [],
   "source": [
    "rel = model.wv[u'作品']\n",
    "df4 = model.wv[u'花千骨'] - model.wv[u'赵丽颖']"
   ]
  },
  {
   "cell_type": "code",
   "execution_count": 27,
   "metadata": {},
   "outputs": [
    {
     "data": {
      "text/plain": [
       "0.065933481"
      ]
     },
     "execution_count": 27,
     "metadata": {},
     "output_type": "execute_result"
    }
   ],
   "source": [
    "similarity(rel, df4)"
   ]
  },
  {
   "cell_type": "code",
   "execution_count": 28,
   "metadata": {},
   "outputs": [
    {
     "name": "stdout",
     "output_type": "stream",
     "text": [
      "0.438474850131\n"
     ]
    }
   ],
   "source": [
    "print model.wv.similarity(u'花', u'草')"
   ]
  },
  {
   "cell_type": "code",
   "execution_count": 29,
   "metadata": {},
   "outputs": [
    {
     "data": {
      "text/plain": [
       "0.36019233"
      ]
     },
     "execution_count": 29,
     "metadata": {},
     "output_type": "execute_result"
    }
   ],
   "source": [
    "similarity(model.wv[u'赵丽颖']+model.wv[u'作品'], model.wv[u'花千骨'])"
   ]
  },
  {
   "cell_type": "code",
   "execution_count": 30,
   "metadata": {},
   "outputs": [
    {
     "data": {
      "text/plain": [
       "0.73477238"
      ]
     },
     "execution_count": 30,
     "metadata": {},
     "output_type": "execute_result"
    }
   ],
   "source": [
    "similarity(model.wv[u'赵丽颖'], model.wv[u'花千骨'])"
   ]
  },
  {
   "cell_type": "code",
   "execution_count": 31,
   "metadata": {},
   "outputs": [
    {
     "data": {
      "text/plain": [
       "0.090088889"
      ]
     },
     "execution_count": 31,
     "metadata": {},
     "output_type": "execute_result"
    }
   ],
   "source": [
    "similarity(model.wv[u'赵丽颖'], model.wv[u'小骨'])"
   ]
  },
  {
   "cell_type": "code",
   "execution_count": 32,
   "metadata": {},
   "outputs": [
    {
     "data": {
      "text/plain": [
       "0.090088886857685097"
      ]
     },
     "execution_count": 32,
     "metadata": {},
     "output_type": "execute_result"
    }
   ],
   "source": [
    "model.wv.similarity(u'赵丽颖', u'小骨')"
   ]
  },
  {
   "cell_type": "code",
   "execution_count": 33,
   "metadata": {},
   "outputs": [
    {
     "data": {
      "text/plain": [
       "0.5875602173481973"
      ]
     },
     "execution_count": 33,
     "metadata": {},
     "output_type": "execute_result"
    }
   ],
   "source": [
    "model.wv.similarity(u'花千骨', u'还珠格格')"
   ]
  },
  {
   "cell_type": "code",
   "execution_count": 34,
   "metadata": {},
   "outputs": [
    {
     "data": {
      "text/plain": [
       "0.30761594078128324"
      ]
     },
     "execution_count": 34,
     "metadata": {},
     "output_type": "execute_result"
    }
   ],
   "source": [
    "model.wv.similarity(u'花千骨', u'南越王')"
   ]
  },
  {
   "cell_type": "code",
   "execution_count": 35,
   "metadata": {},
   "outputs": [
    {
     "data": {
      "text/plain": [
       "0.52039590908306854"
      ]
     },
     "execution_count": 35,
     "metadata": {},
     "output_type": "execute_result"
    }
   ],
   "source": [
    "model.wv.similarity(u'花千骨', u'胭脂')"
   ]
  },
  {
   "cell_type": "code",
   "execution_count": 36,
   "metadata": {},
   "outputs": [
    {
     "data": {
      "text/plain": [
       "0.2122951164346128"
      ]
     },
     "execution_count": 36,
     "metadata": {},
     "output_type": "execute_result"
    }
   ],
   "source": [
    "model.wv.similarity(u'骨', u'胭')"
   ]
  },
  {
   "cell_type": "code",
   "execution_count": 37,
   "metadata": {},
   "outputs": [
    {
     "data": {
      "text/plain": [
       "0.12183914679418947"
      ]
     },
     "execution_count": 37,
     "metadata": {},
     "output_type": "execute_result"
    }
   ],
   "source": [
    "model.wv.similarity(u'花', u'胭')"
   ]
  },
  {
   "cell_type": "code",
   "execution_count": 38,
   "metadata": {},
   "outputs": [
    {
     "name": "stdout",
     "output_type": "stream",
     "text": [
      "0.289726\n",
      "0.211312\n",
      "0.273612\n",
      "0.0401593\n"
     ]
    }
   ],
   "source": [
    "wv = model.wv\n",
    "print similarity(wv[u'花']+wv[u'千']+wv[u'骨'], wv[u'胭脂'])\n",
    "print similarity(wv[u'花']+wv[u'千'], wv[u'胭脂'])\n",
    "print similarity(wv[u'花'], wv[u'胭脂'])\n",
    "print similarity(wv[u'千'], wv[u'胭脂'])"
   ]
  },
  {
   "cell_type": "code",
   "execution_count": 39,
   "metadata": {
    "collapsed": true
   },
   "outputs": [],
   "source": [
    "def distance(a, b):\n",
    "    v = wv[b] - wv[a]\n",
    "    return np.sqrt((v*v).sum())"
   ]
  },
  {
   "cell_type": "code",
   "execution_count": 40,
   "metadata": {},
   "outputs": [
    {
     "data": {
      "text/plain": [
       "47.184349"
      ]
     },
     "execution_count": 40,
     "metadata": {},
     "output_type": "execute_result"
    }
   ],
   "source": [
    "distance(u'花', u'千') + distance(u'千', u'骨')"
   ]
  },
  {
   "cell_type": "code",
   "execution_count": 41,
   "metadata": {},
   "outputs": [
    {
     "data": {
      "text/plain": [
       "51.119911"
      ]
     },
     "execution_count": 41,
     "metadata": {},
     "output_type": "execute_result"
    }
   ],
   "source": [
    "distance(u'赵', u'丽') + distance(u'丽', u'颖')"
   ]
  },
  {
   "cell_type": "code",
   "execution_count": 42,
   "metadata": {},
   "outputs": [
    {
     "data": {
      "text/plain": [
       "60.258514"
      ]
     },
     "execution_count": 42,
     "metadata": {},
     "output_type": "execute_result"
    }
   ],
   "source": [
    "distance(u'刘', u'德') + distance(u'德', u'华')"
   ]
  },
  {
   "cell_type": "code",
   "execution_count": 43,
   "metadata": {},
   "outputs": [
    {
     "data": {
      "text/plain": [
       "21.467834"
      ]
     },
     "execution_count": 43,
     "metadata": {},
     "output_type": "execute_result"
    }
   ],
   "source": [
    "distance(u'江', u'青') "
   ]
  },
  {
   "cell_type": "code",
   "execution_count": 103,
   "metadata": {},
   "outputs": [],
   "source": [
    "def most_similar(word, topn=10):\n",
    "    acts = model.most_similar(word, topn=topn)\n",
    "    for a in acts:\n",
    "        print a[0], a[1]"
   ]
  },
  {
   "cell_type": "code",
   "execution_count": 109,
   "metadata": {},
   "outputs": [],
   "source": [
    " "
   ]
  },
  {
   "cell_type": "code",
   "execution_count": 104,
   "metadata": {},
   "outputs": [
    {
     "name": "stdout",
     "output_type": "stream",
     "text": [
      "罗晋 0.913418591022\n",
      "贾青 0.907668054104\n",
      "唐嫣 0.907099246979\n",
      "袁姗姗 0.904413878918\n",
      "孙艺洲 0.901602447033\n",
      "保剑锋 0.900866389275\n",
      "张歆艺 0.900067687035\n",
      "袁弘 0.899852693081\n",
      "张檬 0.899786353111\n",
      "蒋梦婕 0.899364113808\n"
     ]
    }
   ],
   "source": [
    "most_similar(word=u'赵丽颖', topn=10)"
   ]
  },
  {
   "cell_type": "code",
   "execution_count": 59,
   "metadata": {},
   "outputs": [
    {
     "name": "stdout",
     "output_type": "stream",
     "text": [
      "保剑锋 0.92290353775\n",
      "贾青 0.91826826334\n",
      "聂远 0.914479613304\n",
      "王丽坤 0.914179265499\n",
      "韩栋 0.913538098335\n",
      "赵丽颖 0.913418591022\n",
      "杜淳 0.911788702011\n",
      "胡可 0.911591291428\n",
      "孙耀琦 0.910901904106\n",
      "张歆艺 0.910009741783\n"
     ]
    }
   ],
   "source": [
    "most_similar(word=u'罗晋')"
   ]
  },
  {
   "cell_type": "code",
   "execution_count": 60,
   "metadata": {},
   "outputs": [
    {
     "name": "stdout",
     "output_type": "stream",
     "text": [
      "胡可 0.941519260406\n",
      "王艳 0.93839776516\n",
      "聂远 0.932956278324\n",
      "翟天临 0.928887426853\n",
      "贾青 0.928532779217\n",
      "陈紫函 0.927990794182\n",
      "周一围 0.927675664425\n",
      "韩栋 0.927614271641\n",
      "李宗翰 0.924431145191\n",
      "张歆艺 0.923801898956\n"
     ]
    }
   ],
   "source": [
    "most_similar(word=u'保剑锋')"
   ]
  },
  {
   "cell_type": "code",
   "execution_count": 61,
   "metadata": {},
   "outputs": [
    {
     "name": "stdout",
     "output_type": "stream",
     "text": [
      "保剑锋 0.941519260406\n",
      "潘虹 0.933577775955\n",
      "周一围 0.926552355289\n",
      "奚美娟 0.922278761864\n",
      "蒋勤勤 0.921197116375\n",
      "曾黎 0.920745968819\n",
      "何赛飞 0.920672178268\n",
      "王艳 0.918732225895\n",
      "谭凯 0.917933106422\n",
      "张歆艺 0.9161221385\n"
     ]
    }
   ],
   "source": [
    "most_similar(word=u'胡可')"
   ]
  },
  {
   "cell_type": "code",
   "execution_count": 63,
   "metadata": {},
   "outputs": [
    {
     "name": "stdout",
     "output_type": "stream",
     "text": [
      "就是 0.719305932522\n",
      "这是 0.665864229202\n",
      "便是 0.605258047581\n",
      "可说是 0.59690451622\n",
      "正是 0.586052656174\n",
      "只是 0.582450032234\n",
      "为 0.574702262878\n",
      "却是 0.561082601547\n",
      "作为 0.552400827408\n",
      "属于 0.549892365932\n"
     ]
    }
   ],
   "source": [
    "most_similar(word=u'是')"
   ]
  },
  {
   "cell_type": "code",
   "execution_count": 64,
   "metadata": {},
   "outputs": [
    {
     "name": "stdout",
     "output_type": "stream",
     "text": [
      "赵丽颖 0.734772324562\n",
      "何晟铭 0.732015788555\n",
      "幻城 0.729774951935\n",
      "袁姗姗 0.728932201862\n",
      "陈紫函 0.718213558197\n",
      "韩栋 0.711147248745\n",
      "郑国霖 0.709451556206\n",
      "贾一平 0.708677172661\n",
      "罗晋 0.707002401352\n",
      "宗峰岩 0.70646071434\n"
     ]
    }
   ],
   "source": [
    "most_similar(word=u'花千骨')"
   ]
  },
  {
   "cell_type": "code",
   "execution_count": 65,
   "metadata": {},
   "outputs": [
    {
     "name": "stdout",
     "output_type": "stream",
     "text": [
      "阿耐 0.631445705891\n",
      "蒋欣 0.628604710102\n",
      "杨洋 0.614644050598\n",
      "杨紫 0.609857261181\n",
      "贾一平 0.602118909359\n",
      "谭松韵 0.592505335808\n",
      "谭晶 0.592314839363\n",
      "唐嫣 0.591227710247\n",
      "樊胜美 0.590107440948\n",
      "胡歌 0.588362574577\n"
     ]
    }
   ],
   "source": [
    "most_similar(word=u'欢乐颂')"
   ]
  },
  {
   "cell_type": "code",
   "execution_count": null,
   "metadata": {
    "collapsed": true
   },
   "outputs": [],
   "source": []
  },
  {
   "cell_type": "code",
   "execution_count": 67,
   "metadata": {},
   "outputs": [
    {
     "name": "stdout",
     "output_type": "stream",
     "text": [
      "李勤勤 0.700426757336\n",
      "贾一平 0.697145342827\n",
      "孙耀琦 0.695956170559\n",
      "倾世 0.694539487362\n",
      "大宅门 0.693324625492\n",
      "李依晓 0.692772269249\n",
      "韩栋 0.688454926014\n",
      "左小青 0.688130915165\n",
      "择天记 0.686553001404\n",
      "心玉 0.684670746326\n"
     ]
    }
   ],
   "source": [
    "most_similar(word=u'楚乔传')"
   ]
  },
  {
   "cell_type": "code",
   "execution_count": 68,
   "metadata": {},
   "outputs": [
    {
     "name": "stdout",
     "output_type": "stream",
     "text": [
      "increase 0.909556150436\n",
      "prevent 0.905479848385\n",
      "converting 0.899390459061\n",
      "compared 0.898255884647\n",
      "provide 0.896168708801\n",
      "uses 0.895547270775\n",
      "contain 0.894672751427\n",
      "directly 0.89368134737\n",
      "increased 0.892066121101\n",
      "particularly 0.891838252544\n"
     ]
    }
   ],
   "source": [
    "most_similar(word=u'similar')"
   ]
  },
  {
   "cell_type": "code",
   "execution_count": 69,
   "metadata": {},
   "outputs": [
    {
     "name": "stdout",
     "output_type": "stream",
     "text": [
      "learning 0.690797746181\n",
      "cognitive 0.66452729702\n",
      "programming 0.663953244686\n",
      "teaching 0.657499313354\n",
      "designing 0.654280245304\n",
      "certified 0.651515364647\n",
      "collaborative 0.646019220352\n",
      "lexical 0.643809318542\n",
      "cognition 0.643628716469\n",
      "modeling 0.638086974621\n"
     ]
    }
   ],
   "source": [
    "most_similar(word='nlp')"
   ]
  },
  {
   "cell_type": "code",
   "execution_count": 70,
   "metadata": {},
   "outputs": [
    {
     "name": "stdout",
     "output_type": "stream",
     "text": [
      "你 0.773526251316\n",
      "妳 0.704032063484\n",
      "我们 0.676147639751\n",
      "你们 0.603143393993\n",
      "您 0.586942970753\n",
      "一辈子 0.5690305233\n",
      "啊 0.548644721508\n",
      "真的 0.548458099365\n",
      "吗 0.548236548901\n",
      "我能 0.546245634556\n"
     ]
    }
   ],
   "source": [
    "most_similar(u'我')"
   ]
  },
  {
   "cell_type": "code",
   "execution_count": 72,
   "metadata": {
    "scrolled": true
   },
   "outputs": [
    {
     "name": "stdout",
     "output_type": "stream",
     "text": [
      "想念 0.579530835152\n",
      "爱情 0.553555905819\n",
      "心爱 0.50438117981\n",
      "爱恋 0.494361400604\n",
      "幸福 0.491759061813\n",
      "亲爱 0.487433791161\n",
      "温柔 0.484420716763\n",
      "春浓满 0.480403214693\n",
      "深情 0.48016512394\n",
      "妳 0.479510754347\n"
     ]
    }
   ],
   "source": [
    "most_similar(u'爱')"
   ]
  },
  {
   "cell_type": "markdown",
   "metadata": {},
   "source": [
    "## most_similar with positive and negative exsamples"
   ]
  },
  {
   "cell_type": "code",
   "execution_count": 119,
   "metadata": {
    "scrolled": true
   },
   "outputs": [],
   "source": [
    "def similar(positive, negative, topn=10):\n",
    "    acts = model.most_similar(positive, negative, topn=topn)\n",
    "    for a in acts:\n",
    "        print a[0], a[1]       "
   ]
  },
  {
   "cell_type": "code",
   "execution_count": 120,
   "metadata": {},
   "outputs": [
    {
     "name": "stdout",
     "output_type": "stream",
     "text": [
      "samsung 0.518825888634\n",
      "三星电子 0.518510818481\n",
      "lg 0.489256441593\n",
      "phablet 0.462440013885\n",
      "苹果公司 0.458079367876\n",
      "华硕 0.456855654716\n",
      "乐金 0.450654655695\n",
      "笔记型电脑 0.450189262629\n",
      "anycall 0.44600456953\n",
      "华为 0.441517353058\n"
     ]
    }
   ],
   "source": [
    "similar(positive = [u'苹果', u'三星'], negative=[u'葡萄'], topn=10)"
   ]
  },
  {
   "cell_type": "code",
   "execution_count": 121,
   "metadata": {},
   "outputs": [
    {
     "name": "stdout",
     "output_type": "stream",
     "text": [
      "三星电子 0.704357504845\n",
      "华硕 0.647208690643\n",
      "samsung 0.633920609951\n",
      "智能手机 0.617906868458\n",
      "英特尔 0.615077733994\n",
      "苹果公司 0.614676237106\n",
      "摩托罗拉 0.610976219177\n",
      "笔记型电脑 0.610703349113\n",
      "宏碁 0.603378295898\n",
      "lg 0.595816493034\n"
     ]
    }
   ],
   "source": [
    "similar(positive = [u'苹果', u'三星', u'华为'], negative=[], topn=10)"
   ]
  },
  {
   "cell_type": "code",
   "execution_count": 123,
   "metadata": {
    "scrolled": false
   },
   "outputs": [
    {
     "name": "stdout",
     "output_type": "stream",
     "text": [
      "三星电子 0.583195567131\n",
      "华为 0.563806116581\n",
      "samsung 0.554195582867\n",
      "手机 0.546886920929\n",
      "华硕 0.546405375004\n",
      "笔记型电脑 0.538988292217\n",
      "anycall 0.516629040241\n",
      "苹果公司 0.513567209244\n",
      "智能手机 0.509716510773\n",
      "benq 0.50912541151\n"
     ]
    }
   ],
   "source": [
    "similar(positive = [u'苹果', u'三星', u'小米'], negative=[u'葡萄'], topn=10)"
   ]
  },
  {
   "cell_type": "code",
   "execution_count": 131,
   "metadata": {
    "scrolled": false
   },
   "outputs": [
    {
     "name": "stdout",
     "output_type": "stream",
     "text": [
      "明锋 0.640405356884\n",
      "香浩宇 0.619668722153\n",
      "双扬 0.61098742485\n",
      "干哥 0.605125069618\n",
      "做伙 0.604386508465\n",
      "苏红玉 0.603054702282\n",
      "朱茵饰 0.60237544775\n",
      "范柳原 0.601975083351\n",
      "马小军 0.600406348705\n",
      "刘丽华 0.595869779587\n"
     ]
    }
   ],
   "source": [
    "similar(positive = [u'楚乔', u'杉杉', u'赵丽颖'], negative=[u'孙耀琦'], topn=10)"
   ]
  },
  {
   "cell_type": "markdown",
   "metadata": {},
   "source": [
    "## RelationShip between the word vectors"
   ]
  },
  {
   "cell_type": "code",
   "execution_count": 23,
   "metadata": {
    "collapsed": true
   },
   "outputs": [],
   "source": [
    "def normalize(vector):\n",
    "    return vector/np.sqrt(np.sum(vector*vector))\n",
    "\n",
    "def relation(word1, word2):\n",
    "    df = model.wv[word1] - model.wv[word2]\n",
    "    return normalize(df)\n"
   ]
  },
  {
   "cell_type": "code",
   "execution_count": 46,
   "metadata": {},
   "outputs": [
    {
     "name": "stdout",
     "output_type": "stream",
     "text": [
      "0.339091\n",
      "-0.0593605\n",
      "-0.2447\n",
      "0.554723\n",
      "0.846187\n"
     ]
    }
   ],
   "source": [
    "rel1 = relation(u'赵丽颖', u'楚乔传')\n",
    "rel2 = relation(u'赵丽颖', u'花千骨')\n",
    "rel3 = relation(u'胡军', u'天龙八部')\n",
    "rel4 = model.wv[u'电视剧']\n",
    "\n",
    "print similarity(rel1, rel4)\n",
    "print similarity(rel1, rel3)\n",
    "print similarity(rel3, rel4)\n",
    "print similarity(model.wv[u'楚乔传'], model.wv[u'天龙八部'])\n",
    "print similarity(model.wv[u'赵丽颖'], model.wv[u'胡军'])"
   ]
  }
 ],
 "metadata": {
  "anaconda-cloud": {},
  "kernelspec": {
   "display_name": "Python 3",
   "language": "python",
   "name": "python3"
  },
  "language_info": {
   "codemirror_mode": {
    "name": "ipython",
    "version": 3
   },
   "file_extension": ".py",
   "mimetype": "text/x-python",
   "name": "python",
   "nbconvert_exporter": "python",
   "pygments_lexer": "ipython3",
   "version": "3.6.1"
  }
 },
 "nbformat": 4,
 "nbformat_minor": 1
}
